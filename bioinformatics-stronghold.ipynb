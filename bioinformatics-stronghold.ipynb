{
 "cells": [
  {
   "cell_type": "markdown",
   "metadata": {},
   "source": [
    "# Solutions to problem sets in the bioinformatics stronghold\n",
    "\n",
    "Get the relevant imports out of the way and set the path..."
   ]
  },
  {
   "cell_type": "code",
   "execution_count": 68,
   "metadata": {},
   "outputs": [],
   "source": [
    "import numpy as np\n",
    "path = '/Users/Rob/work/rosalind-project-workthrough/'"
   ]
  },
  {
   "cell_type": "markdown",
   "metadata": {},
   "source": [
    "**Problem 1**: Counting DNA Nucleotides"
   ]
  },
  {
   "cell_type": "code",
   "execution_count": 40,
   "metadata": {},
   "outputs": [],
   "source": [
    "# Input filename of string data prior to running\n",
    "filename = ''\n",
    "\n",
    "# Create list of strings to look for\n",
    "look_for = ['A','C','G','T']\n",
    "\n",
    "# Import string data\n",
    "string_data = str(np.loadtxt(path + 'data/' + filename, dtype=np.str))\n",
    "\n",
    "# For all strings to look for, generate a list of occurances\n",
    "output_data = []\n",
    "for s in look_for: \n",
    "    output_data.append(string_data.count(s))\n",
    "\n",
    "# Export count output data to file seperated by spaces\n",
    "np.savetxt(path + 'output/answer_problem_1.txt', np.asarray(output_data), fmt='%i', newline=' ')"
   ]
  },
  {
   "cell_type": "markdown",
   "metadata": {},
   "source": [
    "**Problem 2**: Transcribing DNA into RNA"
   ]
  },
  {
   "cell_type": "code",
   "execution_count": 56,
   "metadata": {},
   "outputs": [],
   "source": [
    "# Input filename of string data prior to running\n",
    "filename = ''\n",
    "\n",
    "# Import string data\n",
    "string_data = str(np.loadtxt(path + 'data/' + filename, dtype=np.str))\n",
    "\n",
    "# Transcribe the DNA sequence into RNA\n",
    "output_data = string_data.replace('T','U')\n",
    "\n",
    "# Export output RNA to file\n",
    "np.savetxt(path + 'output/answer_problem_2.txt', [output_data], fmt='%s')"
   ]
  },
  {
   "cell_type": "markdown",
   "metadata": {},
   "source": [
    "**Problem 3**: Complementing a Strand of DNA"
   ]
  },
  {
   "cell_type": "code",
   "execution_count": 72,
   "metadata": {},
   "outputs": [],
   "source": [
    "# Input filename of string data prior to running\n",
    "filename = ''\n",
    "\n",
    "# Import string data\n",
    "string_data = str(np.loadtxt(path + 'data/' + filename, dtype=np.str))\n",
    "\n",
    "# Create translation table for complementary base pairs to be translated\n",
    "nucleotides = 'ATCG'\n",
    "complementary_nucleotides = 'TAGC'\n",
    "trans_tab = string_data.maketrans(nucleotides,complementary_nucleotides)\n",
    "\n",
    "# Reverse DNA string and translate into complementary base pairs\n",
    "output_data = string_data[::-1].translate(trans_tab)\n",
    "\n",
    "# Export output RNA to file\n",
    "np.savetxt(path + 'output/answer_problem_3.txt', [output_data], fmt='%s')"
   ]
  },
  {
   "cell_type": "code",
   "execution_count": null,
   "metadata": {},
   "outputs": [],
   "source": []
  }
 ],
 "metadata": {
  "kernelspec": {
   "display_name": "Python 3",
   "language": "python",
   "name": "python3"
  },
  "language_info": {
   "codemirror_mode": {
    "name": "ipython",
    "version": 3
   },
   "file_extension": ".py",
   "mimetype": "text/x-python",
   "name": "python",
   "nbconvert_exporter": "python",
   "pygments_lexer": "ipython3",
   "version": "3.7.2"
  }
 },
 "nbformat": 4,
 "nbformat_minor": 2
}
